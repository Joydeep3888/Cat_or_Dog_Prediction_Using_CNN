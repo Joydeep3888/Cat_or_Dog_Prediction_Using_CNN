{
 "cells": [
  {
   "cell_type": "code",
   "execution_count": 2,
   "id": "2e261934",
   "metadata": {},
   "outputs": [],
   "source": [
    "import tensorflow as tf"
   ]
  },
  {
   "cell_type": "code",
   "execution_count": 4,
   "id": "e1c7a581",
   "metadata": {},
   "outputs": [],
   "source": [
    "from keras.preprocessing.image import ImageDataGenerator"
   ]
  },
  {
   "cell_type": "code",
   "execution_count": 5,
   "id": "7e9e13bc",
   "metadata": {},
   "outputs": [
    {
     "name": "stdout",
     "output_type": "stream",
     "text": [
      "Found 8000 images belonging to 2 classes.\n"
     ]
    }
   ],
   "source": [
    "train_datagen = ImageDataGenerator(rescale = 1./255,\n",
    "                                   shear_range = 0.2,\n",
    "                                   zoom_range = 0.2,\n",
    "                                   horizontal_flip = True)\n",
    "\n",
    "training_set = train_datagen.flow_from_directory(r'C:\\Users\\hp\\OneDrive\\Desktop\\ineuron\\Deep Learning\\Section 40 - Convolutional Neural Networks (CNN)\\dataset\\training_set',\n",
    "                                                 target_size = (64, 64),\n",
    "                                                 batch_size = 32,\n",
    "                                                 class_mode = 'binary')"
   ]
  },
  {
   "cell_type": "code",
   "execution_count": 6,
   "id": "d2ba0726",
   "metadata": {},
   "outputs": [
    {
     "name": "stdout",
     "output_type": "stream",
     "text": [
      "Found 2000 images belonging to 2 classes.\n"
     ]
    }
   ],
   "source": [
    "test_datagen = ImageDataGenerator(rescale = 1./255)\n",
    "test_set = test_datagen.flow_from_directory(r'C:\\Users\\hp\\OneDrive\\Desktop\\ineuron\\Deep Learning\\Section 40 - Convolutional Neural Networks (CNN)\\dataset\\test_set',\n",
    "                                            target_size = (64, 64),\n",
    "                                            batch_size = 32,\n",
    "                                            class_mode = 'binary')"
   ]
  },
  {
   "cell_type": "code",
   "execution_count": 7,
   "id": "47170391",
   "metadata": {},
   "outputs": [],
   "source": [
    "cnn=tf.keras.models.Sequential()"
   ]
  },
  {
   "cell_type": "code",
   "execution_count": 9,
   "id": "a61ed175",
   "metadata": {},
   "outputs": [],
   "source": [
    "cnn.add(tf.keras.layers.Conv2D(filters=32, kernel_size=3, activation='relu', input_shape=(64,64,3)))"
   ]
  },
  {
   "cell_type": "markdown",
   "id": "dfd0f61e",
   "metadata": {},
   "source": [
    "# kernel_size=size of feature detector"
   ]
  },
  {
   "cell_type": "code",
   "execution_count": 10,
   "id": "3d7d472d",
   "metadata": {},
   "outputs": [],
   "source": [
    "cnn.add(tf.keras.layers.MaxPool2D(pool_size=2, strides=2))\n"
   ]
  },
  {
   "cell_type": "markdown",
   "id": "cd8e97e3",
   "metadata": {},
   "source": [
    "# Second Layer"
   ]
  },
  {
   "cell_type": "markdown",
   "id": "cc40cb0a",
   "metadata": {},
   "source": [
    "pool_size=(2,2) array of the max pixel the size of the frame in our case 2*2 matrix to get the max value \n",
    "strides= how the array is getting shifted in our case we are using strides 2 cause we are sliding 2*2 pixel"
   ]
  },
  {
   "cell_type": "code",
   "execution_count": 11,
   "id": "74286da1",
   "metadata": {},
   "outputs": [],
   "source": [
    "cnn.add(tf.keras.layers.Conv2D(filters=32, kernel_size=3, activation='relu'))\n",
    "cnn.add(tf.keras.layers.MaxPool2D(pool_size=2, strides=2))"
   ]
  },
  {
   "cell_type": "markdown",
   "id": "8c36a51e",
   "metadata": {},
   "source": [
    "# Flatten"
   ]
  },
  {
   "cell_type": "code",
   "execution_count": 12,
   "id": "361c7921",
   "metadata": {},
   "outputs": [],
   "source": [
    "cnn.add(tf.keras.layers.Flatten())"
   ]
  },
  {
   "cell_type": "markdown",
   "id": "e4aebf7c",
   "metadata": {},
   "source": [
    "# Full connection"
   ]
  },
  {
   "cell_type": "code",
   "execution_count": 15,
   "id": "882a451b",
   "metadata": {},
   "outputs": [],
   "source": [
    "cnn.add(tf.keras.layers.Dense(units=128, activation='relu'))"
   ]
  },
  {
   "cell_type": "markdown",
   "id": "33755ed2",
   "metadata": {},
   "source": [
    "# Output layer"
   ]
  },
  {
   "cell_type": "code",
   "execution_count": 16,
   "id": "ce77c1eb",
   "metadata": {},
   "outputs": [],
   "source": [
    "cnn.add(tf.keras.layers.Dense(units=1, activation='sigmoid'))"
   ]
  },
  {
   "cell_type": "code",
   "execution_count": 17,
   "id": "34a169e9",
   "metadata": {},
   "outputs": [],
   "source": [
    "cnn.compile(optimizer='Adam',metrics='Accuracy', loss=tf.keras.losses.BinaryCrossentropy())"
   ]
  },
  {
   "cell_type": "markdown",
   "id": "949815d1",
   "metadata": {},
   "source": [
    "# Training"
   ]
  },
  {
   "cell_type": "code",
   "execution_count": 18,
   "id": "8672176f",
   "metadata": {},
   "outputs": [
    {
     "name": "stdout",
     "output_type": "stream",
     "text": [
      "Epoch 1/25\n",
      "250/250 [==============================] - 160s 635ms/step - loss: 0.6777 - Accuracy: 0.5794 - val_loss: 0.6554 - val_Accuracy: 0.6075\n",
      "Epoch 2/25\n",
      "250/250 [==============================] - 88s 351ms/step - loss: 0.6116 - Accuracy: 0.6629 - val_loss: 0.6005 - val_Accuracy: 0.6805\n",
      "Epoch 3/25\n",
      "250/250 [==============================] - 75s 302ms/step - loss: 0.5712 - Accuracy: 0.6945 - val_loss: 0.5678 - val_Accuracy: 0.6970\n",
      "Epoch 4/25\n",
      "250/250 [==============================] - 87s 348ms/step - loss: 0.5518 - Accuracy: 0.7164 - val_loss: 0.5266 - val_Accuracy: 0.7425\n",
      "Epoch 5/25\n",
      "250/250 [==============================] - 76s 304ms/step - loss: 0.5273 - Accuracy: 0.7358 - val_loss: 0.5440 - val_Accuracy: 0.7395\n",
      "Epoch 6/25\n",
      "250/250 [==============================] - 67s 269ms/step - loss: 0.4992 - Accuracy: 0.7559 - val_loss: 0.5052 - val_Accuracy: 0.7680\n",
      "Epoch 7/25\n",
      "250/250 [==============================] - 62s 248ms/step - loss: 0.4805 - Accuracy: 0.7657 - val_loss: 0.4974 - val_Accuracy: 0.7590\n",
      "Epoch 8/25\n",
      "250/250 [==============================] - 61s 242ms/step - loss: 0.4595 - Accuracy: 0.7820 - val_loss: 0.4948 - val_Accuracy: 0.7645\n",
      "Epoch 9/25\n",
      "250/250 [==============================] - 69s 278ms/step - loss: 0.4422 - Accuracy: 0.7883 - val_loss: 0.4560 - val_Accuracy: 0.7965\n",
      "Epoch 10/25\n",
      "250/250 [==============================] - 77s 307ms/step - loss: 0.4289 - Accuracy: 0.7987 - val_loss: 0.4548 - val_Accuracy: 0.7900\n",
      "Epoch 11/25\n",
      "250/250 [==============================] - 73s 293ms/step - loss: 0.4050 - Accuracy: 0.8096 - val_loss: 0.4851 - val_Accuracy: 0.7705\n",
      "Epoch 12/25\n",
      "250/250 [==============================] - 73s 291ms/step - loss: 0.3891 - Accuracy: 0.8234 - val_loss: 0.4718 - val_Accuracy: 0.7840\n",
      "Epoch 13/25\n",
      "250/250 [==============================] - 79s 315ms/step - loss: 0.3814 - Accuracy: 0.8296 - val_loss: 0.4403 - val_Accuracy: 0.7970\n",
      "Epoch 14/25\n",
      "250/250 [==============================] - 72s 286ms/step - loss: 0.3678 - Accuracy: 0.8357 - val_loss: 0.4363 - val_Accuracy: 0.8065\n",
      "Epoch 15/25\n",
      "250/250 [==============================] - 73s 290ms/step - loss: 0.3431 - Accuracy: 0.8468 - val_loss: 0.5565 - val_Accuracy: 0.7690\n",
      "Epoch 16/25\n",
      "250/250 [==============================] - 76s 303ms/step - loss: 0.3437 - Accuracy: 0.8465 - val_loss: 0.4748 - val_Accuracy: 0.8030\n",
      "Epoch 17/25\n",
      "250/250 [==============================] - 77s 306ms/step - loss: 0.3287 - Accuracy: 0.8584 - val_loss: 0.4718 - val_Accuracy: 0.8010\n",
      "Epoch 18/25\n",
      "250/250 [==============================] - 78s 314ms/step - loss: 0.3138 - Accuracy: 0.8630 - val_loss: 0.4361 - val_Accuracy: 0.8180\n",
      "Epoch 19/25\n",
      "250/250 [==============================] - 75s 302ms/step - loss: 0.3005 - Accuracy: 0.8673 - val_loss: 0.4953 - val_Accuracy: 0.7985\n",
      "Epoch 20/25\n",
      "250/250 [==============================] - 75s 298ms/step - loss: 0.2864 - Accuracy: 0.8756 - val_loss: 0.5659 - val_Accuracy: 0.7740\n",
      "Epoch 21/25\n",
      "250/250 [==============================] - 75s 299ms/step - loss: 0.2804 - Accuracy: 0.8832 - val_loss: 0.4648 - val_Accuracy: 0.8195\n",
      "Epoch 22/25\n",
      "250/250 [==============================] - 74s 296ms/step - loss: 0.2696 - Accuracy: 0.8854 - val_loss: 0.5583 - val_Accuracy: 0.7855\n",
      "Epoch 23/25\n",
      "250/250 [==============================] - 70s 282ms/step - loss: 0.2517 - Accuracy: 0.8947 - val_loss: 0.4931 - val_Accuracy: 0.7990\n",
      "Epoch 24/25\n",
      "250/250 [==============================] - 74s 298ms/step - loss: 0.2385 - Accuracy: 0.8989 - val_loss: 0.5123 - val_Accuracy: 0.8055\n",
      "Epoch 25/25\n",
      "250/250 [==============================] - 80s 321ms/step - loss: 0.2348 - Accuracy: 0.9043 - val_loss: 0.5201 - val_Accuracy: 0.8050\n"
     ]
    },
    {
     "data": {
      "text/plain": [
       "<keras.callbacks.History at 0x18b5275c4f0>"
      ]
     },
     "execution_count": 18,
     "metadata": {},
     "output_type": "execute_result"
    }
   ],
   "source": [
    "cnn.fit(x = training_set, validation_data = test_set, epochs = 25)"
   ]
  },
  {
   "cell_type": "markdown",
   "id": "acb03331",
   "metadata": {},
   "source": [
    "# Making prediction"
   ]
  },
  {
   "cell_type": "code",
   "execution_count": 39,
   "id": "699c8089",
   "metadata": {},
   "outputs": [
    {
     "name": "stdout",
     "output_type": "stream",
     "text": [
      "1/1 [==============================] - 0s 197ms/step\n",
      "1/1 [==============================] - 0s 27ms/step\n",
      "1/1 [==============================] - 0s 25ms/step\n",
      "1/1 [==============================] - 0s 24ms/step\n"
     ]
    }
   ],
   "source": [
    "import numpy as np\n",
    "import tensorflow as tf\n",
    "#from tensorflow.keras.preprocessing import image,img_to_array\n",
    "import tensorflow.keras.preprocessing.image\n",
    "\n",
    "Test_Image_1=image.load_img(r'C:\\Users\\hp\\OneDrive\\Desktop\\ineuron\\Deep Learning\\CNN\\dataset\\single_prediction/cat_or_dog_1.jpg', target_size = (64, 64))\n",
    "Test_Image_2=image.load_img(r'C:\\Users\\hp\\OneDrive\\Desktop\\ineuron\\Deep Learning\\CNN\\dataset\\single_prediction/cat_or_dog_2.jpg', target_size = (64, 64))\n",
    "Test_Image_3=image.load_img(r'C:\\Users\\hp\\OneDrive\\Desktop\\ineuron\\Deep Learning\\CNN\\dataset\\single_prediction/cat_or_dog_3.jpg', target_size = (64, 64))\n",
    "Test_Image_4=image.load_img(r'C:\\Users\\hp\\OneDrive\\Desktop\\ineuron\\Deep Learning\\CNN\\dataset\\single_prediction/cat_or_dog_4.jpg', target_size = (64, 64))\n",
    "\n",
    "Test_Image_1 = image.img_to_array(Test_Image_1)\n",
    "Test_Image_2 = image.img_to_array(Test_Image_2)\n",
    "Test_Image_3 = image.img_to_array(Test_Image_3)\n",
    "Test_Image_4=  image.img_to_array(Test_Image_4)\n",
    "\n",
    "Test_Image_1 = np.expand_dims(Test_Image_1, axis = 0)\n",
    "Test_Image_2 = np.expand_dims(Test_Image_2, axis = 0)\n",
    "Test_Image_3 = np.expand_dims(Test_Image_3, axis = 0)\n",
    "Test_Image_4 = np.expand_dims(Test_Image_4, axis = 0)\n",
    "\n",
    "result1 = cnn.predict(Test_Image_1/255)\n",
    "result2 = cnn.predict(Test_Image_2/255)\n",
    "result3 = cnn.predict(Test_Image_3/255)\n",
    "result4 = cnn.predict(Test_Image_4/255)"
   ]
  },
  {
   "cell_type": "code",
   "execution_count": 26,
   "id": "517c56d9",
   "metadata": {},
   "outputs": [
    {
     "data": {
      "text/plain": [
       "'2.10.0'"
      ]
     },
     "execution_count": 26,
     "metadata": {},
     "output_type": "execute_result"
    }
   ],
   "source": [
    "tf.__version__"
   ]
  },
  {
   "cell_type": "code",
   "execution_count": 22,
   "id": "fef169a4",
   "metadata": {},
   "outputs": [
    {
     "data": {
      "text/plain": [
       "{'cats': 0, 'dogs': 1}"
      ]
     },
     "execution_count": 22,
     "metadata": {},
     "output_type": "execute_result"
    }
   ],
   "source": [
    "training_set.class_indices"
   ]
  },
  {
   "cell_type": "code",
   "execution_count": 40,
   "id": "003a61a4",
   "metadata": {},
   "outputs": [],
   "source": [
    "def result_pred(result):\n",
    "    \n",
    "    if result[0][0] >= 0.5:\n",
    "      prediction = 'dog'\n",
    "    else:\n",
    "      prediction = 'cat'\n",
    "    return prediction"
   ]
  },
  {
   "cell_type": "code",
   "execution_count": 41,
   "id": "8b66ad38",
   "metadata": {},
   "outputs": [
    {
     "data": {
      "text/plain": [
       "'dog'"
      ]
     },
     "execution_count": 41,
     "metadata": {},
     "output_type": "execute_result"
    }
   ],
   "source": [
    "result_pred(result1)"
   ]
  },
  {
   "cell_type": "code",
   "execution_count": 42,
   "id": "68eed282",
   "metadata": {},
   "outputs": [
    {
     "data": {
      "text/plain": [
       "'cat'"
      ]
     },
     "execution_count": 42,
     "metadata": {},
     "output_type": "execute_result"
    }
   ],
   "source": [
    "result_pred(result2)"
   ]
  },
  {
   "cell_type": "code",
   "execution_count": 43,
   "id": "f8fae7b0",
   "metadata": {},
   "outputs": [
    {
     "data": {
      "text/plain": [
       "'cat'"
      ]
     },
     "execution_count": 43,
     "metadata": {},
     "output_type": "execute_result"
    }
   ],
   "source": [
    "result_pred(result3)"
   ]
  },
  {
   "cell_type": "code",
   "execution_count": 44,
   "id": "84b9ad9f",
   "metadata": {},
   "outputs": [
    {
     "data": {
      "text/plain": [
       "'dog'"
      ]
     },
     "execution_count": 44,
     "metadata": {},
     "output_type": "execute_result"
    }
   ],
   "source": [
    "result_pred(result4)"
   ]
  },
  {
   "cell_type": "code",
   "execution_count": null,
   "id": "4af15434",
   "metadata": {},
   "outputs": [],
   "source": []
  }
 ],
 "metadata": {
  "kernelspec": {
   "display_name": "Python 3 (ipykernel)",
   "language": "python",
   "name": "python3"
  },
  "language_info": {
   "codemirror_mode": {
    "name": "ipython",
    "version": 3
   },
   "file_extension": ".py",
   "mimetype": "text/x-python",
   "name": "python",
   "nbconvert_exporter": "python",
   "pygments_lexer": "ipython3",
   "version": "3.9.7"
  }
 },
 "nbformat": 4,
 "nbformat_minor": 5
}
